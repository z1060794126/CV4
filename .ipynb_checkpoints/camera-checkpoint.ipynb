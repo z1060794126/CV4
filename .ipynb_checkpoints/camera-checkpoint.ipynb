{
 "cells": [
  {
   "cell_type": "code",
   "execution_count": 2,
   "metadata": {},
   "outputs": [],
   "source": [
    "from scipy import linalg\n",
    "import numpy as np"
   ]
  },
  {
   "cell_type": "code",
   "execution_count": 1,
   "metadata": {},
   "outputs": [],
   "source": [
    "class Camera(object):\n",
    "    \"\"\"表示针孔式照相机的类\"\"\"\n",
    "    \n",
    "    def __init__(self,P):\n",
    "        \"\"\"初始化相机矩阵 P = K[R|t] \"\"\"\n",
    "        self.P = P\n",
    "        self.K = None\n",
    "        self.R = None\n",
    "        self.t = None\n",
    "        self.c = None\n",
    "        \n",
    "    def project(self,X):\n",
    "        \"\"\"X的投影点，并且进行归一化操作\"\"\"\n",
    "        x = np.dot(self.P,X)\n",
    "        for i in range(3):\n",
    "            x[i] /= x[2]\n",
    "        return x\n",
    "    \n",
    "    def factor(self):\n",
    "        \"\"\"将相机矩阵P分解为K,R,t，P = K[R|t]\"\"\"\n",
    "        \n",
    "        #print('P')\n",
    "        #print(self.P)\n",
    "        \n",
    "        #分解前3×3的部分\n",
    "        K,R = linalg.rq(self.P[:,:3])\n",
    "        #print('K')\n",
    "        #print(K)\n",
    "        #print('R')\n",
    "        #print(R)\n",
    "        \n",
    "        #将K的对角线元素设为正值\n",
    "        T = np.diag(np.sign(np.diag(K)))\n",
    "        #print(T)\n",
    "        #if linalg.det(T) < 0:\n",
    "            #T[1,1] *= 1\n",
    "         \n",
    "        #print(T)\n",
    "        self.K = np.dot(K,T)\n",
    "        self.R = np.dot(T,R)\n",
    "        self.t = np.dot(linalg.inv(self.K),self.P[:,3])\n",
    "        \n",
    "        return self.K,self.R,self.t\n",
    "    \n",
    "    def center(self):\n",
    "        \"\"\"计算并返回照相机的中心C\"\"\"\n",
    "    \n",
    "        if self.c is not None:\n",
    "            return self.c\n",
    "        else:\n",
    "            #通过因子分解计算c\n",
    "            self.factor()\n",
    "            self.c = -np.dot(self.R.T,self.t)\n",
    "            return self.c\n",
    "    \n",
    "    "
   ]
  },
  {
   "cell_type": "code",
   "execution_count": 4,
   "metadata": {},
   "outputs": [],
   "source": [
    "def rotation_matrix(a):\n",
    "    \"\"\"创建一个用于围绕向量a轴旋转的三维旋转矩阵\"\"\"\n",
    "    R = np.eye(4)\n",
    "    R[:3,:3] = linalg.expm([[0,-a[2],a[1]],[a[2],0,-a[0]],[-a[1],a[0],0]])\n",
    "    return R\n",
    "    "
   ]
  },
  {
   "cell_type": "code",
   "execution_count": null,
   "metadata": {},
   "outputs": [],
   "source": []
  }
 ],
 "metadata": {
  "kernelspec": {
   "display_name": "Python 3",
   "language": "python",
   "name": "python3"
  },
  "language_info": {
   "codemirror_mode": {
    "name": "ipython",
    "version": 3
   },
   "file_extension": ".py",
   "mimetype": "text/x-python",
   "name": "python",
   "nbconvert_exporter": "python",
   "pygments_lexer": "ipython3",
   "version": "3.6.10"
  }
 },
 "nbformat": 4,
 "nbformat_minor": 4
}
