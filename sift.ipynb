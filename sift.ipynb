{
 "cells": [
  {
   "cell_type": "code",
   "execution_count": 1,
   "metadata": {},
   "outputs": [],
   "source": [
    "from PIL import Image\n",
    "import os\n",
    "import numpy as np\n",
    "import matplotlib.pyplot as plt\n",
    "import math"
   ]
  },
  {
   "cell_type": "code",
   "execution_count": 2,
   "metadata": {},
   "outputs": [],
   "source": [
    "def process_image(imagename,resultname,params = \"--edge-thresh 10 --peak-thresh 5\"):\n",
    "    \"\"\"处理一幅图像，然后将结果保存。将图像格式转化为灰度.pgm\n",
    "    --edge-thresh 10 --peak-thresh 5\"\"\"\n",
    "    \n",
    "    if imagename[-3:] != 'pgm':\n",
    "        im = Image.open(imagename).convert('L')\n",
    "        im.save('tmp.pgm')\n",
    "        imagename = 'tmp.pgm'\n",
    "        \n",
    "    print(imagename)\n",
    "    cmmd = str(\"sift \"+imagename+\" --output=\"+resultname+\"  \"+params)\n",
    "    os.system(cmmd)\n",
    "    print('processed',imagename,'to',resultname)"
   ]
  },
  {
   "cell_type": "code",
   "execution_count": 3,
   "metadata": {},
   "outputs": [],
   "source": [
    "def read_features_from_file(filename):\n",
    "    \"\"\"读取特征属性值，然后将其以矩阵形式返回\"\"\"\n",
    "    \n",
    "    f = np.loadtxt(filename)\n",
    "    #print(f)\n",
    "    return f[:,:4],f[:,4:]"
   ]
  },
  {
   "cell_type": "code",
   "execution_count": 4,
   "metadata": {},
   "outputs": [],
   "source": [
    "def write_features_to_file(filename,locs,desc):\n",
    "    \"\"\"将特征位置和描述子保存到文件中\"\"\"\n",
    "    \n",
    "    np.savetxt(filename,hstack((locs,desc)))"
   ]
  },
  {
   "cell_type": "code",
   "execution_count": 5,
   "metadata": {},
   "outputs": [],
   "source": [
    "def plot_features(im,locs,circle=False):\n",
    "    \"\"\"显示带有特征的图像\n",
    "    输入：im(数组图像),locs(每个特征的行、列、尺度和朝向)\"\"\"\n",
    "    \n",
    "    def draw_circle(c,r):\n",
    "        t = np.arange(0,1.01,.01)*2*math.pi\n",
    "        #print(t.shape)\n",
    "        x = r*np.cos(t) + c[0]\n",
    "        y = r*np.sin(t) + c[1]\n",
    "        plt.plot(x,y,'b',linewidth=2)\n",
    "        \n",
    "    plt.imshow(im)\n",
    "    if(circle):\n",
    "        for p in locs:\n",
    "            draw_circle(p[:2],p[2])\n",
    "    else:\n",
    "        plt.plot(locs[:,0],locs[:,1],'ob')\n",
    "            \n",
    "    #plt.axis('off')\n",
    "             "
   ]
  },
  {
   "cell_type": "code",
   "execution_count": null,
   "metadata": {},
   "outputs": [],
   "source": []
  },
  {
   "cell_type": "code",
   "execution_count": 6,
   "metadata": {},
   "outputs": [],
   "source": [
    "def match(desc1,desc2):\n",
    "    \"\"\"对于第一幅图像中的每个描述子，选取其在第二个图像中的匹配\"\"\"\n",
    "    \n",
    "    desc1 = np.array([d/np.linalg.norm(d) for d in desc1])\n",
    "    desc2 = np.array([d/np.linalg.norm(d) for d in desc2])\n",
    "    \n",
    "    dist_ratio = 0.6\n",
    "    desc1_size = desc1.shape\n",
    "    \n",
    "    matchscores = np.zeros((desc1_size[0],1),'int')\n",
    "    desc2t = desc2.T\n",
    "    \n",
    "    for i in range(desc1_size[0]):\n",
    "        dotprods = np.dot(desc1[i,:],desc2t)\n",
    "        dotprods = 0.999*dotprods\n",
    "        #反余弦和反排序，返回第二幅图像中特征的索引\n",
    "        indx = np.argsort(np.arccos(dotprods))\n",
    "        \n",
    "        #检查最近邻的角度是否小于dist_ratio乘以第二近邻的角度\n",
    "        if np.arccos(dotprods)[indx[0]] < dist_ratio * np.arccos(dotprods)[indx[1]]:\n",
    "            matchscores[i] = int(indx[0])\n",
    "    \n",
    "    return matchscores"
   ]
  },
  {
   "cell_type": "code",
   "execution_count": 7,
   "metadata": {},
   "outputs": [],
   "source": [
    "def match_twosided(desc1,desc2):\n",
    "    \"\"\"两边对称版本的match()\"\"\"\n",
    "    \n",
    "    matches_12 = match(desc1,desc2)\n",
    "    #print(matches_12)\n",
    "    matches_21 = match(desc2,desc1)\n",
    "    #print(matches_21)\n",
    "    ndx_12  = np.where(matches_12 >= 0)[0]\n",
    "    \n",
    "    #去除非对称的匹配\n",
    "    for n in ndx_12:\n",
    "        if matches_21[matches_12[n]] != n:\n",
    "            matches_12[n] = 0\n",
    "            \n",
    "    return matches_12"
   ]
  },
  {
   "cell_type": "markdown",
   "metadata": {
    "scrolled": false
   },
   "source": [
    "imname1 = 'climbing_1_small.jpg'\n",
    "im1 = np.array(Image.open(imname1).convert('L'))\n",
    "process_image(imname1,'climbing_1_small.sift')\n",
    "l1,d1 = read_features_from_file('climbing_1_small.sift')\n",
    "\n",
    "imname2 = 'climbing_2_small.jpg'\n",
    "im2 = np.array(Image.open(imname2).convert('L'))\n",
    "process_image(imname2,'climbing_2_small.sift')\n",
    "l2,d2 = read_features_from_file('climbing_2_small.sift')"
   ]
  },
  {
   "cell_type": "markdown",
   "metadata": {
    "scrolled": false
   },
   "source": [
    "plt.figure()\n",
    "plt.gray()\n",
    "plot_features(im1,l1,circle=True)\n",
    "plt.show()\n",
    "plot_features(im2,l1,circle=True)\n",
    "plt.show()"
   ]
  },
  {
   "cell_type": "markdown",
   "metadata": {},
   "source": [
    "print(im1.shape)\n",
    "plt.figure()\n",
    "plt.gray()\n",
    "plt.imshow(im1)\n",
    "plt.show()\n",
    "plt.imshow(im2)\n",
    "plt.show()"
   ]
  },
  {
   "cell_type": "code",
   "execution_count": 10,
   "metadata": {},
   "outputs": [],
   "source": [
    "def appendimages(im1,im2):\n",
    "    \"\"\"返回将两幅图像并排拼接成的一幅新图像\"\"\"\n",
    "    \n",
    "    #选取具有最少行数的图像，然后填充足够的空行\n",
    "    rows1 = im1.shape[0]\n",
    "    rows2 = im2.shape[0]\n",
    "    \n",
    "    if rows1 < rows2:\n",
    "        im1 = np.concatenate((im1,np.zeros((rows2-rows1,im1.shape[1]))),axis = 0)\n",
    "    elif rows1 > rows2:\n",
    "        im2 = np.concatenate((im2,np.zeros((rows1-rows2,im2.shape[1]))),axis = 0)\n",
    "        \n",
    "    return np.concatenate((im1,im2),axis=1)"
   ]
  },
  {
   "cell_type": "code",
   "execution_count": 11,
   "metadata": {},
   "outputs": [],
   "source": [
    "def plot_matches(im1,im2,locs1,locs2,matchscores,show_below=True):\n",
    "    \"\"\"显示一幅带有连接匹配之间连线的图片\n",
    "       输入：im1,im2（数组图像），locs1，locs2（特征位置），matchscores（match()的输出），\n",
    "       show_below（如果图像应该显示在匹配的下方）\"\"\"\n",
    "    \n",
    "    im3 = appendimages(im1,im2)\n",
    "\n",
    "    if show_below:\n",
    "        im3 = np.vstack((im3,im3))\n",
    "    \n",
    "    plt.imshow(im3)\n",
    "    \n",
    "    cols1 = im1.shape[1]\n",
    "    #print('cols1=',cols1)\n",
    "    \n",
    "    temp = []\n",
    "    #print(matchscores.shape)\n",
    "    for i,m in enumerate(matchscores):\n",
    "        m = int(m)\n",
    "        if m > 0:\n",
    "            #plt.plot([locs1[i][0],locs2[m][0]+cols1],[locs1[i][1],locs2[m][1]],'c')\n",
    "            plt.plot(locs1[i][0],locs1[i][1],'ob')\n",
    "            plt.plot(locs2[m][0]+cols1,locs2[m][1],'ob')\n",
    "    \n",
    "    #plt.axis('off')"
   ]
  },
  {
   "cell_type": "markdown",
   "metadata": {
    "scrolled": false
   },
   "source": [
    "matches = match_twosided(d1,d2).T.squeeze()\n",
    "\n",
    "plt.figure()\n",
    "plt.gray()\n",
    "plot_matches(im1,im2,l1[:,0:2],l2[:,0:2],matches)\n",
    "#im = appendimages(im1,im2)\n",
    "#plt.imshow(im)\n",
    "plt.axis('off')\n",
    "plt.show()"
   ]
  },
  {
   "cell_type": "markdown",
   "metadata": {},
   "source": [
    "print(l1.shape)\n",
    "t = l1[:,0:2]\n",
    "print(t.shape)\n",
    "print(t.max(axis = 0))\n",
    "print()\n",
    "print(l2.shape)\n",
    "t = l1[:,0:2]\n",
    "print(t.shape)\n",
    "print(t.max(axis = 0))"
   ]
  },
  {
   "cell_type": "markdown",
   "metadata": {},
   "source": [
    "print(matches.T.squeeze().shape)"
   ]
  },
  {
   "cell_type": "code",
   "execution_count": null,
   "metadata": {},
   "outputs": [],
   "source": []
  }
 ],
 "metadata": {
  "kernelspec": {
   "display_name": "Python 3",
   "language": "python",
   "name": "python3"
  },
  "language_info": {
   "codemirror_mode": {
    "name": "ipython",
    "version": 3
   },
   "file_extension": ".py",
   "mimetype": "text/x-python",
   "name": "python",
   "nbconvert_exporter": "python",
   "pygments_lexer": "ipython3",
   "version": "3.6.10"
  }
 },
 "nbformat": 4,
 "nbformat_minor": 4
}
